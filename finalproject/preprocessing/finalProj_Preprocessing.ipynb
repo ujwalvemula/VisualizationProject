{
 "cells": [
  {
   "cell_type": "code",
   "execution_count": 1,
   "metadata": {},
   "outputs": [],
   "source": [
    "import numpy as np\n",
    "import pandas as pd"
   ]
  },
  {
   "cell_type": "code",
   "execution_count": 2,
   "metadata": {},
   "outputs": [
    {
     "name": "stderr",
     "output_type": "stream",
     "text": [
      "C:\\Users\\ujwal\\Anaconda3\\lib\\site-packages\\IPython\\core\\interactiveshell.py:3058: DtypeWarning: Columns (4,6,31,33,61,62,63,76,79,90,92,94,96,114,115,121) have mixed types. Specify dtype option on import or set low_memory=False.\n",
      "  interactivity=interactivity, compiler=compiler, result=result)\n"
     ]
    }
   ],
   "source": [
    "originalData = pd.read_csv('/Users/ujwal/data/stonybrook/spring2020/visualization/project/data/globalterrorismdb_0718dist.csv', encoding = \"ISO-8859-1\")"
   ]
  },
  {
   "cell_type": "code",
   "execution_count": 12,
   "metadata": {},
   "outputs": [
    {
     "data": {
      "text/plain": [
       "(181691, 135)"
      ]
     },
     "execution_count": 12,
     "metadata": {},
     "output_type": "execute_result"
    }
   ],
   "source": [
    "originalData.shape"
   ]
  },
  {
   "cell_type": "code",
   "execution_count": 34,
   "metadata": {},
   "outputs": [],
   "source": [
    "columns = ['eventid','iyear','imonth','iday','extended','country','country_txt','region','region_txt','provstate','city','latitude','longitude','specificity','vicinity','location','summary','crit1','crit2','crit3','doubtterr','multiple','success','suicide','attacktype1','attacktype1_txt','targtype1','targtype1_txt','targsubtype1','targsubtype1_txt','natlty1','natlty1_txt','gname','guncertain1','individual','weaptype1','weaptype1_txt','weapsubtype1','weapsubtype1_txt','nkill','nwound','property','ishostkid']"
   ]
  },
  {
   "cell_type": "code",
   "execution_count": 35,
   "metadata": {},
   "outputs": [],
   "source": [
    "tempData = originalData[columns]"
   ]
  },
  {
   "cell_type": "code",
   "execution_count": 94,
   "metadata": {},
   "outputs": [
    {
     "data": {
      "text/plain": [
       "(181691, 43)"
      ]
     },
     "execution_count": 94,
     "metadata": {},
     "output_type": "execute_result"
    }
   ],
   "source": [
    "tempData.shape"
   ]
  },
  {
   "cell_type": "code",
   "execution_count": 99,
   "metadata": {},
   "outputs": [
    {
     "name": "stderr",
     "output_type": "stream",
     "text": [
      "C:\\Users\\ujwal\\Anaconda3\\lib\\site-packages\\pandas\\core\\frame.py:4102: SettingWithCopyWarning: \n",
      "A value is trying to be set on a copy of a slice from a DataFrame\n",
      "\n",
      "See the caveats in the documentation: http://pandas.pydata.org/pandas-docs/stable/user_guide/indexing.html#returning-a-view-versus-a-copy\n",
      "  errors=errors,\n"
     ]
    }
   ],
   "source": [
    "tempData.drop(tempData[tempData['country_txt']=='International'].index, inplace = True)\n",
    "tempData.drop(tempData[tempData['country_txt']=='St. Kitts and Nevis'].index, inplace = True)\n",
    "tempData.drop(tempData[tempData['country_txt']=='St. Lucia'].index, inplace = True)\n",
    "tempData.drop(tempData[tempData['country_txt']=='Yugoslavia'].index, inplace = True)"
   ]
  },
  {
   "cell_type": "code",
   "execution_count": 100,
   "metadata": {},
   "outputs": [
    {
     "data": {
      "text/plain": [
       "(181484, 43)"
      ]
     },
     "execution_count": 100,
     "metadata": {},
     "output_type": "execute_result"
    }
   ],
   "source": [
    "tempData.shape"
   ]
  },
  {
   "cell_type": "code",
   "execution_count": 133,
   "metadata": {},
   "outputs": [],
   "source": [
    "tempData.reset_index(inplace=True, drop=True)"
   ]
  },
  {
   "cell_type": "code",
   "execution_count": 77,
   "metadata": {},
   "outputs": [],
   "source": [
    "currentNames = {'Czechoslovakia':'Czech Republic', 'East Germany (GDR)':'Germany', 'West Germany (FRG)':'Germany',\n",
    "                'People\\'s Republic of the Congo':'Republic of Congo', 'New Hebrides':'Vanuatu', 'North Yemen':'Yemen',\n",
    "                'South Yemen':'Yemen', 'Rhodesia':'Zimbabwe', 'Serbia-Montenegro':'Serbia', 'South Vietnam':'Vietnam', \n",
    "                'Soviet Union':'Russia', 'Vatican City':'Italy', 'Zaire':'Democratic Republic of the Congo'}"
   ]
  },
  {
   "cell_type": "code",
   "execution_count": 110,
   "metadata": {},
   "outputs": [],
   "source": [
    "tempData = tempData.replace({'country_txt': currentNames})"
   ]
  },
  {
   "cell_type": "code",
   "execution_count": 113,
   "metadata": {},
   "outputs": [],
   "source": [
    "countryCodes = {'Afghanistan':'AFG', 'Albania':'ALB', 'Algeria':'DZA', 'Andorra':'AND', 'Angola':'AGO', 'Antigua and Barbuda':'ATG', 'Argentina':'ARG', 'Armenia':'ARM', 'Australia':'AUS', 'Austria':'AUT', 'Azerbaijan':'AZE', 'Bahamas':'BHS', 'Bahrain':'BHR', 'Bangladesh':'BGD', 'Barbados':'BRB', 'Belarus':'BLR', 'Belgium':'BEL', 'Belize':'BLZ', 'Benin':'BEN', 'Bhutan':'BTN', 'Bolivia':'BOL', 'Bosnia-Herzegovina':'BIH', 'Botswana':'BWA', 'Brazil':'BRA', 'Brunei':'BRN', 'Bulgaria':'BGR', 'Burkina Faso':'BFA', 'Burundi':'BDI', 'Cambodia':'KHM', 'Cameroon':'CMR', 'Canada':'CAN', 'Central African Republic':'CAF', 'Chad':'TCD', 'Chile':'CHL', 'China':'CHN', 'Colombia':'COL', 'Comoros':'COM', 'Costa Rica':'CRI', 'Croatia':'HRV', 'Cuba':'CUB', 'Cyprus':'CYP', 'Czech Republic':'CZE', 'Democratic Republic of the Congo':'COD', 'Denmark':'DNK', 'Djibouti':'DJI', 'Dominica':'DMA', 'Dominican Republic':'DOM', 'East Timor':'TLS', 'Ecuador':'ECU', 'Egypt':'EGY', 'El Salvador':'SLV', 'Equatorial Guinea':'GNQ', 'Eritrea':'ERI', 'Estonia':'EST', 'Ethiopia':'ETH', 'Falkland Islands':'FLK', 'Fiji':'FJI', 'Finland':'FIN', 'France':'FRA', 'French Guiana':'GUF', 'French Polynesia':'PYF', 'Gabon':'GAB', 'Gambia':'GMB', 'Georgia':'GEO', 'Germany':'DEU', 'Ghana':'GHA', 'Greece':'GRC', 'Grenada':'GRD', 'Guadeloupe':'GLP', 'Guatemala':'GTM', 'Guinea':'GIN', 'Guinea-Bissau':'GNB', 'Guyana':'GUY', 'Haiti':'HTI', 'Honduras':'HND', 'Hong Kong':'HKG', 'Hungary':'HUN', 'Iceland':'ISL', 'India':'IND', 'Indonesia':'IDN', 'Iran':'IRN', 'Iraq':'IRQ', 'Ireland':'IRL', 'Israel':'ISR', 'Italy':'ITA', 'Ivory Coast':'CIV', 'Jamaica':'JAM', 'Japan':'JPN', 'Jordan':'JOR', 'Kazakhstan':'KAZ', 'Kenya':'KEN', 'Kosovo':'OSA', 'Kuwait':'KWT', 'Kyrgyzstan':'KGZ', 'Laos':'LAO', 'Latvia':'LVA', 'Lebanon':'LBN', 'Lesotho':'LSO', 'Liberia':'LBR', 'Libya':'LBY', 'Lithuania':'LTU', 'Luxembourg':'LUX', 'Macau':'MAC', 'Macedonia':'MKD', 'Madagascar':'MDG', 'Malawi':'MWI', 'Malaysia':'MYS', 'Maldives':'MDV', 'Mali':'MLI', 'Malta':'MLT', 'Martinique':'MTQ', 'Mauritania':'MRT', 'Mauritius':'MUS', 'Mexico':'MEX', 'Moldova':'MDA', 'Montenegro':'MNE', 'Morocco':'MAR', 'Mozambique':'MOZ', 'Myanmar':'MMR', 'Namibia':'NAM', 'Nepal':'NPL', 'Netherlands':'NLD', 'New Caledonia':'NCL', 'New Zealand':'NZL', 'Nicaragua':'NIC', 'Niger':'NER', 'Nigeria':'NGA', 'North Korea':'PRK', 'Norway':'NOR', 'Pakistan':'PAK', 'Panama':'PAN', 'Papua New Guinea':'PNG', 'Paraguay':'PRY', 'Peru':'PER', 'Philippines':'PHL', 'Poland':'POL', 'Portugal':'PRT', 'Qatar':'QAT', 'Republic of the Congo':'COG', 'Romania':'ROU', 'Russia':'RUS', 'Rwanda':'RWA', 'Saudi Arabia':'SAU', 'Senegal':'SEN', 'Serbia':'SRB', 'Seychelles':'SYC', 'Sierra Leone':'SLE', 'Singapore':'SGP', 'Slovak Republic':'SVK', 'Slovenia':'SVN', 'Solomon Islands':'SLB', 'Somalia':'SOM', 'South Africa':'ZAF', 'South Korea':'KOR', 'South Sudan':'SDS', 'Spain':'ESP', 'Sri Lanka':'LKA', 'Sudan':'SDN', 'Suriname':'SUR', 'Swaziland':'SWZ', 'Sweden':'SWE', 'Switzerland':'CHE', 'Syria':'SYR', 'Taiwan':'TWN', 'Tajikistan':'TJK', 'Tanzania':'TZA', 'Thailand':'THA', 'Togo':'TGO', 'Trinidad and Tobago':'TTO', 'Tunisia':'TUN', 'Turkey':'TUR', 'Turkmenistan':'TKM', 'Uganda':'UGA', 'Ukraine':'UKR', 'United Arab Emirates':'ARE', 'United Kingdom':'GBR', 'United States':'USA', 'Uruguay':'URY', 'Uzbekistan':'UZB', 'Vanuatu':'VUT', 'Venezuela':'VEN', 'Vietnam':'VNM', 'Wallis and Futuna':'WLF', 'West Bank and Gaza Strip':'PSE', 'Western Sahara':'ESH', 'Yemen':'YEM', 'Zambia':'ZMB', 'Zimbabwe':'ZWE'}"
   ]
  },
  {
   "cell_type": "code",
   "execution_count": 130,
   "metadata": {},
   "outputs": [],
   "source": [
    "def getCountryCode(row):\n",
    "    return countryCodes.get(row['country_txt'])"
   ]
  },
  {
   "cell_type": "code",
   "execution_count": 138,
   "metadata": {},
   "outputs": [],
   "source": [
    "tempData['countryCode'] = tempData.apply(lambda row: getCountryCode(row), axis=1)"
   ]
  },
  {
   "cell_type": "code",
   "execution_count": 144,
   "metadata": {},
   "outputs": [
    {
     "data": {
      "text/html": [
       "<div>\n",
       "<style scoped>\n",
       "    .dataframe tbody tr th:only-of-type {\n",
       "        vertical-align: middle;\n",
       "    }\n",
       "\n",
       "    .dataframe tbody tr th {\n",
       "        vertical-align: top;\n",
       "    }\n",
       "\n",
       "    .dataframe thead th {\n",
       "        text-align: right;\n",
       "    }\n",
       "</style>\n",
       "<table border=\"1\" class=\"dataframe\">\n",
       "  <thead>\n",
       "    <tr style=\"text-align: right;\">\n",
       "      <th></th>\n",
       "      <th>country_txt</th>\n",
       "      <th>countryCode</th>\n",
       "    </tr>\n",
       "  </thead>\n",
       "  <tbody>\n",
       "    <tr>\n",
       "      <td>0</td>\n",
       "      <td>Dominican Republic</td>\n",
       "      <td>DOM</td>\n",
       "    </tr>\n",
       "    <tr>\n",
       "      <td>1</td>\n",
       "      <td>Mexico</td>\n",
       "      <td>MEX</td>\n",
       "    </tr>\n",
       "    <tr>\n",
       "      <td>2</td>\n",
       "      <td>Philippines</td>\n",
       "      <td>PHL</td>\n",
       "    </tr>\n",
       "    <tr>\n",
       "      <td>3</td>\n",
       "      <td>Greece</td>\n",
       "      <td>GRC</td>\n",
       "    </tr>\n",
       "    <tr>\n",
       "      <td>4</td>\n",
       "      <td>Japan</td>\n",
       "      <td>JPN</td>\n",
       "    </tr>\n",
       "    <tr>\n",
       "      <td>...</td>\n",
       "      <td>...</td>\n",
       "      <td>...</td>\n",
       "    </tr>\n",
       "    <tr>\n",
       "      <td>181479</td>\n",
       "      <td>Somalia</td>\n",
       "      <td>SOM</td>\n",
       "    </tr>\n",
       "    <tr>\n",
       "      <td>181480</td>\n",
       "      <td>Syria</td>\n",
       "      <td>SYR</td>\n",
       "    </tr>\n",
       "    <tr>\n",
       "      <td>181481</td>\n",
       "      <td>Philippines</td>\n",
       "      <td>PHL</td>\n",
       "    </tr>\n",
       "    <tr>\n",
       "      <td>181482</td>\n",
       "      <td>India</td>\n",
       "      <td>IND</td>\n",
       "    </tr>\n",
       "    <tr>\n",
       "      <td>181483</td>\n",
       "      <td>Philippines</td>\n",
       "      <td>PHL</td>\n",
       "    </tr>\n",
       "  </tbody>\n",
       "</table>\n",
       "<p>181484 rows × 2 columns</p>\n",
       "</div>"
      ],
      "text/plain": [
       "               country_txt countryCode\n",
       "0       Dominican Republic         DOM\n",
       "1                   Mexico         MEX\n",
       "2              Philippines         PHL\n",
       "3                   Greece         GRC\n",
       "4                    Japan         JPN\n",
       "...                    ...         ...\n",
       "181479             Somalia         SOM\n",
       "181480               Syria         SYR\n",
       "181481         Philippines         PHL\n",
       "181482               India         IND\n",
       "181483         Philippines         PHL\n",
       "\n",
       "[181484 rows x 2 columns]"
      ]
     },
     "execution_count": 144,
     "metadata": {},
     "output_type": "execute_result"
    }
   ],
   "source": [
    "tempData[['country_txt', 'countryCode']]"
   ]
  },
  {
   "cell_type": "code",
   "execution_count": 167,
   "metadata": {},
   "outputs": [],
   "source": [
    "years = []\n",
    "for i in range(1970,2018):\n",
    "    years.append(i)\n",
    "yearWiseDeaths = pd.DataFrame(0, index=countryCodes.keys(), columns = years)"
   ]
  },
  {
   "cell_type": "code",
   "execution_count": 170,
   "metadata": {},
   "outputs": [],
   "source": [
    "for i in years:\n",
    "    yearWiseDeaths[i] = tempData[tempData['iyear']==i].groupby(by=['country_txt'])['nkill'].sum()"
   ]
  },
  {
   "cell_type": "code",
   "execution_count": 180,
   "metadata": {},
   "outputs": [],
   "source": [
    "yearWiseDeaths = yearWiseDeaths.fillna(0)"
   ]
  },
  {
   "cell_type": "code",
   "execution_count": 200,
   "metadata": {},
   "outputs": [
    {
     "data": {
      "text/plain": [
       "1970       47.0\n",
       "1971      110.0\n",
       "1972      368.0\n",
       "1973      210.0\n",
       "1974      235.0\n",
       "1975      245.0\n",
       "1976      264.0\n",
       "1977      103.0\n",
       "1978      447.0\n",
       "1979      286.0\n",
       "1980     2383.0\n",
       "1981     1578.0\n",
       "1982     1562.0\n",
       "1983     3277.0\n",
       "1984     3617.0\n",
       "1985     1575.0\n",
       "1986      771.0\n",
       "1987     1274.0\n",
       "1988     1096.0\n",
       "1989     1822.0\n",
       "1990     1505.0\n",
       "1991     1412.0\n",
       "1992     1233.0\n",
       "1993        0.0\n",
       "1994     1571.0\n",
       "1995     1020.0\n",
       "1996     1371.0\n",
       "1997     4266.0\n",
       "1998      952.0\n",
       "1999      469.0\n",
       "2000      671.0\n",
       "2001     3008.0\n",
       "2002      615.0\n",
       "2003      472.0\n",
       "2004     2171.0\n",
       "2005     3384.0\n",
       "2006     4616.0\n",
       "2007     6667.0\n",
       "2008     2864.0\n",
       "2009     2585.0\n",
       "2010     2074.0\n",
       "2011     1870.0\n",
       "2012     3521.0\n",
       "2013     7041.0\n",
       "2014    13965.0\n",
       "2015     8885.0\n",
       "2016    12207.0\n",
       "2017     6476.0\n",
       "dtype: float64"
      ]
     },
     "execution_count": 200,
     "metadata": {},
     "output_type": "execute_result"
    }
   ],
   "source": [
    "yearWiseDeaths.max(axis=0)"
   ]
  },
  {
   "cell_type": "code",
   "execution_count": 43,
   "metadata": {
    "collapsed": true
   },
   "outputs": [
    {
     "data": {
      "text/plain": [
       "133518    1570.0\n",
       "73126     1384.0\n",
       "73127     1383.0\n",
       "55934     1180.0\n",
       "136283     953.0\n",
       "133225     670.0\n",
       "179671     588.0\n",
       "76347      518.0\n",
       "136746     517.0\n",
       "170198     433.0\n",
       "6629       422.0\n",
       "136561     400.0\n",
       "90401      400.0\n",
       "31595      388.0\n",
       "164327     383.0\n",
       "62468      375.0\n",
       "76953      344.0\n",
       "25532      329.0\n",
       "67589      320.0\n",
       "131346     315.0\n",
       "180708     311.0\n",
       "135115     310.0\n",
       "62869      304.0\n",
       "11636      300.0\n",
       "20984      300.0\n",
       "158654     300.0\n",
       "146573     300.0\n",
       "67135      300.0\n",
       "135125     298.0\n",
       "130420     287.0\n",
       "168368     284.0\n",
       "166173     283.0\n",
       "148370     280.0\n",
       "68030      275.0\n",
       "67334      271.0\n",
       "20813      270.0\n",
       "36669      270.0\n",
       "174100     266.0\n",
       "72646      259.0\n",
       "66454      256.0\n",
       "161437     250.0\n",
       "22974      250.0\n",
       "84010      250.0\n",
       "84018      250.0\n",
       "20075      241.0\n",
       "153580     240.0\n",
       "27086      240.0\n",
       "147248     230.0\n",
       "173221     230.0\n",
       "21054      228.0\n",
       "28561      227.0\n",
       "68071      224.0\n",
       "154889     224.0\n",
       "128765     212.0\n",
       "106143     210.0\n",
       "144897     208.0\n",
       "67498      206.0\n",
       "67496      206.0\n",
       "81896      205.0\n",
       "137852     201.0\n",
       "Name: nkill, dtype: float64"
      ]
     },
     "execution_count": 43,
     "metadata": {},
     "output_type": "execute_result"
    }
   ],
   "source": [
    "tempData['nkill'].sort_values(ascending=False).head(60)"
   ]
  },
  {
   "cell_type": "code",
   "execution_count": 151,
   "metadata": {},
   "outputs": [
    {
     "data": {
      "text/plain": [
       "country_txt\n",
       "United States     3008.0\n",
       "Angola             846.0\n",
       "India              660.0\n",
       "Algeria            624.0\n",
       "Colombia           576.0\n",
       "                   ...  \n",
       "Lebanon              0.0\n",
       "Ecuador              0.0\n",
       "Czech Republic       0.0\n",
       "Cyprus               0.0\n",
       "Kazakhstan           0.0\n",
       "Name: nkill, Length: 96, dtype: float64"
      ]
     },
     "execution_count": 151,
     "metadata": {},
     "output_type": "execute_result"
    }
   ],
   "source": [
    "tempData[tempData['iyear']==2001].groupby(by=['country_txt'])['nkill'].sum().sort_values(ascending=False)"
   ]
  },
  {
   "cell_type": "code",
   "execution_count": 59,
   "metadata": {},
   "outputs": [
    {
     "data": {
      "text/plain": [
       "country_txt\n",
       "Iraq                78589.0\n",
       "Afghanistan         39384.0\n",
       "Pakistan            23822.0\n",
       "Nigeria             22682.0\n",
       "India               19341.0\n",
       "                     ...   \n",
       "South Yemen             0.0\n",
       "New Hebrides            0.0\n",
       "Seychelles              0.0\n",
       "Benin                   0.0\n",
       "French Polynesia        0.0\n",
       "Name: nkill, Length: 205, dtype: float64"
      ]
     },
     "execution_count": 59,
     "metadata": {},
     "output_type": "execute_result"
    }
   ],
   "source": [
    "tempData.groupby(by=['country_txt'])['nkill'].sum().sort_values(ascending=False)"
   ]
  },
  {
   "cell_type": "code",
   "execution_count": 183,
   "metadata": {},
   "outputs": [],
   "source": [
    "countryKillCount = tempData.groupby(by=['country_txt'])['nkill'].sum().sort_values(ascending=False)"
   ]
  },
  {
   "cell_type": "code",
   "execution_count": 184,
   "metadata": {},
   "outputs": [],
   "source": [
    "countryKillCount = pd.DataFrame(countryKillCount)"
   ]
  },
  {
   "cell_type": "code",
   "execution_count": 192,
   "metadata": {},
   "outputs": [],
   "source": [
    "countryKillCount['country_txt'] = countryKillCount.index"
   ]
  },
  {
   "cell_type": "code",
   "execution_count": 193,
   "metadata": {},
   "outputs": [],
   "source": [
    "countryKillCount['countryCode'] = countryKillCount.apply(lambda row: getCountryCode(row), axis=1)"
   ]
  },
  {
   "cell_type": "code",
   "execution_count": 198,
   "metadata": {},
   "outputs": [
    {
     "data": {
      "text/html": [
       "<div>\n",
       "<style scoped>\n",
       "    .dataframe tbody tr th:only-of-type {\n",
       "        vertical-align: middle;\n",
       "    }\n",
       "\n",
       "    .dataframe tbody tr th {\n",
       "        vertical-align: top;\n",
       "    }\n",
       "\n",
       "    .dataframe thead th {\n",
       "        text-align: right;\n",
       "    }\n",
       "</style>\n",
       "<table border=\"1\" class=\"dataframe\">\n",
       "  <thead>\n",
       "    <tr style=\"text-align: right;\">\n",
       "      <th></th>\n",
       "      <th>nkill</th>\n",
       "      <th>countryCode</th>\n",
       "    </tr>\n",
       "    <tr>\n",
       "      <th>country_txt</th>\n",
       "      <th></th>\n",
       "      <th></th>\n",
       "    </tr>\n",
       "  </thead>\n",
       "  <tbody>\n",
       "    <tr>\n",
       "      <td>Iraq</td>\n",
       "      <td>78589.0</td>\n",
       "      <td>IRQ</td>\n",
       "    </tr>\n",
       "    <tr>\n",
       "      <td>Afghanistan</td>\n",
       "      <td>39384.0</td>\n",
       "      <td>AFG</td>\n",
       "    </tr>\n",
       "    <tr>\n",
       "      <td>Pakistan</td>\n",
       "      <td>23822.0</td>\n",
       "      <td>PAK</td>\n",
       "    </tr>\n",
       "    <tr>\n",
       "      <td>Nigeria</td>\n",
       "      <td>22682.0</td>\n",
       "      <td>NGA</td>\n",
       "    </tr>\n",
       "    <tr>\n",
       "      <td>India</td>\n",
       "      <td>19341.0</td>\n",
       "      <td>IND</td>\n",
       "    </tr>\n",
       "    <tr>\n",
       "      <td>...</td>\n",
       "      <td>...</td>\n",
       "      <td>...</td>\n",
       "    </tr>\n",
       "    <tr>\n",
       "      <td>Luxembourg</td>\n",
       "      <td>0.0</td>\n",
       "      <td>LUX</td>\n",
       "    </tr>\n",
       "    <tr>\n",
       "      <td>Benin</td>\n",
       "      <td>0.0</td>\n",
       "      <td>BEN</td>\n",
       "    </tr>\n",
       "    <tr>\n",
       "      <td>Falkland Islands</td>\n",
       "      <td>0.0</td>\n",
       "      <td>FLK</td>\n",
       "    </tr>\n",
       "    <tr>\n",
       "      <td>Martinique</td>\n",
       "      <td>0.0</td>\n",
       "      <td>MTQ</td>\n",
       "    </tr>\n",
       "    <tr>\n",
       "      <td>Seychelles</td>\n",
       "      <td>0.0</td>\n",
       "      <td>SYC</td>\n",
       "    </tr>\n",
       "  </tbody>\n",
       "</table>\n",
       "<p>189 rows × 2 columns</p>\n",
       "</div>"
      ],
      "text/plain": [
       "                    nkill countryCode\n",
       "country_txt                          \n",
       "Iraq              78589.0         IRQ\n",
       "Afghanistan       39384.0         AFG\n",
       "Pakistan          23822.0         PAK\n",
       "Nigeria           22682.0         NGA\n",
       "India             19341.0         IND\n",
       "...                   ...         ...\n",
       "Luxembourg            0.0         LUX\n",
       "Benin                 0.0         BEN\n",
       "Falkland Islands      0.0         FLK\n",
       "Martinique            0.0         MTQ\n",
       "Seychelles            0.0         SYC\n",
       "\n",
       "[189 rows x 2 columns]"
      ]
     },
     "execution_count": 198,
     "metadata": {},
     "output_type": "execute_result"
    }
   ],
   "source": [
    "countryKillCount[['nkill', 'countryCode']]"
   ]
  },
  {
   "cell_type": "code",
   "execution_count": 195,
   "metadata": {},
   "outputs": [],
   "source": [
    "export_csv = countryKillCount.to_csv (r'C:\\Users\\ujwal\\data\\stonybrook\\spring2020\\visualization\\project\\data\\processed\\countryWiseKillCount.csv', index = None, header=True)"
   ]
  },
  {
   "cell_type": "code",
   "execution_count": 76,
   "metadata": {},
   "outputs": [],
   "source": []
  }
 ],
 "metadata": {
  "kernelspec": {
   "display_name": "Python 3",
   "language": "python",
   "name": "python3"
  },
  "language_info": {
   "codemirror_mode": {
    "name": "ipython",
    "version": 3
   },
   "file_extension": ".py",
   "mimetype": "text/x-python",
   "name": "python",
   "nbconvert_exporter": "python",
   "pygments_lexer": "ipython3",
   "version": "3.7.4"
  }
 },
 "nbformat": 4,
 "nbformat_minor": 2
}
